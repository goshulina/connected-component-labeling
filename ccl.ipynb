{
 "cells": [
  {
   "cell_type": "code",
   "execution_count": 1,
   "metadata": {},
   "outputs": [],
   "source": [
    "import numpy as np"
   ]
  },
  {
   "cell_type": "code",
   "execution_count": 6,
   "metadata": {},
   "outputs": [
    {
     "data": {
      "text/plain": [
       "array([[1, 0, 0, 0, 1, 1, 0, 0, 0, 0, 0],\n",
       "       [1, 0, 0, 0, 1, 1, 0, 0, 0, 0, 0],\n",
       "       [1, 1, 0, 0, 0, 0, 0, 0, 0, 0, 0],\n",
       "       [0, 0, 0, 0, 0, 0, 0, 0, 0, 0, 0],\n",
       "       [0, 1, 1, 0, 1, 1, 0, 0, 0, 0, 0],\n",
       "       [0, 1, 1, 0, 1, 1, 0, 0, 0, 0, 0],\n",
       "       [0, 1, 1, 1, 1, 1, 0, 0, 0, 0, 0],\n",
       "       [0, 0, 0, 0, 0, 0, 0, 1, 1, 1, 0],\n",
       "       [0, 0, 0, 0, 0, 0, 0, 1, 0, 1, 0],\n",
       "       [0, 0, 0, 0, 0, 0, 0, 1, 1, 1, 0]], dtype=uint8)"
      ]
     },
     "execution_count": 6,
     "metadata": {},
     "output_type": "execute_result"
    }
   ],
   "source": [
    "test = np.ones([10, 11], dtype=np.uint8)\n",
    "test[:3,0] = 0\n",
    "test[2,1] = 0\n",
    "test[:2,4:6] = 0\n",
    "\n",
    "test[4:6,4:6] = 0\n",
    "test[4:6,1:3] = 0\n",
    "test[6:7,1:6] = 0\n",
    "\n",
    "test[7:10,7:10] = 0\n",
    "test[8,8] = 1\n",
    "test = 1 - test\n",
    "test"
   ]
  },
  {
   "cell_type": "code",
   "execution_count": 7,
   "metadata": {},
   "outputs": [
    {
     "data": {
      "text/plain": [
       "(10, 11)"
      ]
     },
     "execution_count": 7,
     "metadata": {},
     "output_type": "execute_result"
    }
   ],
   "source": [
    "test.shape"
   ]
  },
  {
   "cell_type": "code",
   "execution_count": 8,
   "metadata": {},
   "outputs": [
    {
     "data": {
      "text/plain": [
       "[[(0, 0), (4, 5)],\n",
       " [(0, 0), (4, 5)],\n",
       " [(0, 1)],\n",
       " [((), ())],\n",
       " [(1, 2), (4, 5)],\n",
       " [(1, 2), (4, 5)],\n",
       " [(1, 5)],\n",
       " [(7, 9)],\n",
       " [(7, 7), (9, 9)],\n",
       " [(7, 9)]]"
      ]
     },
     "execution_count": 8,
     "metadata": {},
     "output_type": "execute_result"
    }
   ],
   "source": [
    "grps_by_rows = [[]]\n",
    "g_c = 0\n",
    "for row in range(test.shape[0]):\n",
    "    n = 0\n",
    "    indexes = np.where(test[row] == 1)[0]\n",
    "    diffs = np.diff(indexes) > 1\n",
    "    seq = []\n",
    "    for i in range(indexes.shape[0]):\n",
    "        seq.append(i)\n",
    "        if i == 0:\n",
    "            continue\n",
    "        if diffs[i-1]:\n",
    "            # check connectivity or create new group\n",
    "            group_idexes = [indexes[seq_id] for seq_id in seq[:i]]\n",
    "            group_idexes = group_idexes*2 if len(group_idexes) == 1 else [()] if group_idexes == [] else group_idexes\n",
    "            grps_by_rows[row].append((group_idexes[0], group_idexes[-1]))\n",
    "            n += 1\n",
    "            seq = seq[i:]\n",
    "    group_idexes = [indexes[seq_id] for seq_id in seq[:i+1]]\n",
    "    group_idexes = group_idexes*2 if len(group_idexes) == 1 else [()] if group_idexes == [] else group_idexes\n",
    "    grps_by_rows[row].append((group_idexes[0], group_idexes[-1]))\n",
    "    g_c += 1\n",
    "    grps_by_rows.append([])\n",
    "grps_by_rows = grps_by_rows[:-1]\n",
    "grps_by_rows"
   ]
  },
  {
   "cell_type": "code",
   "execution_count": 9,
   "metadata": {},
   "outputs": [
    {
     "name": "stdout",
     "output_type": "stream",
     "text": [
      "0\n",
      "0\n",
      "0\n",
      "0\n",
      "0\n",
      "0\n",
      "end\n",
      "0\n",
      "0\n",
      "0\n",
      "0\n",
      "0\n",
      "0\n",
      "end\n",
      "0\n",
      "1\n",
      "0\n",
      "0\n",
      "1\n",
      "0\n",
      "end\n",
      "0\n",
      "1\n",
      "1\n",
      "1\n",
      "1\n",
      "0\n",
      "end\n",
      "0\n",
      "1\n",
      "0\n",
      "1\n",
      "0\n",
      "0\n",
      "end\n",
      "0\n",
      "0\n",
      "0\n",
      "0\n",
      "0\n",
      "0\n",
      "end\n",
      "0\n",
      "0\n",
      "0\n",
      "0\n",
      "0\n",
      "0\n",
      "end\n",
      "0\n",
      "1\n",
      "1\n",
      "1\n",
      "1\n",
      "0\n",
      "end\n",
      "0\n",
      "1\n",
      "1\n",
      "1\n",
      "1\n",
      "0\n",
      "end\n",
      "0\n",
      "1\n",
      "1\n",
      "1\n",
      "1\n",
      "0\n",
      "end\n",
      "0\n",
      "0\n",
      "0\n",
      "0\n",
      "0\n",
      "0\n",
      "end\n",
      "0\n",
      "1\n",
      "1\n",
      "0\n",
      "1\n",
      "1\n",
      "end\n",
      "1\n",
      "1\n",
      "0\n",
      "1\n",
      "1\n",
      "0\n",
      "end\n",
      "0\n",
      "1\n",
      "0\n",
      "0\n",
      "1\n",
      "0\n",
      "end\n"
     ]
    },
    {
     "name": "stderr",
     "output_type": "stream",
     "text": [
      "<ipython-input-9-2dc643b8c508>:17: DeprecationWarning: The truth value of an empty array is ambiguous. Returning False, but in future this will result in an error. Use `array.size > 0` to check that an array is not empty.\n",
      "  if group == ((), ()):\n"
     ]
    }
   ],
   "source": [
    "def check_connectivity(arr, group_borders, row_number, groups_obj):\n",
    "    arr[row_number-1,:]\n",
    "    for coordinate in group_borders:\n",
    "        candidates_j = [coordinate-1, \n",
    "                        coordinate, \n",
    "                        coordinate+1\n",
    "                        ]\n",
    "        candidates_i = [row_number-1]*3\n",
    "        for i in range(3):\n",
    "            print(arr[candidates_i[i],candidates_j[i]])\n",
    "    print('end')\n",
    "        \n",
    "\n",
    "grps = {}\n",
    "for r_num, row in enumerate(grps_by_rows):\n",
    "    for group in row:\n",
    "        if group == ((), ()):\n",
    "            continue\n",
    "        if check_connectivity(test, group, r_num, grps):\n",
    "            pass\n",
    "            # check if grp E\n",
    "            # update\n",
    "            \n",
    "                \n"
   ]
  },
  {
   "cell_type": "code",
   "execution_count": null,
   "metadata": {},
   "outputs": [],
   "source": []
  }
 ],
 "metadata": {
  "kernelspec": {
   "display_name": "Python 3",
   "language": "python",
   "name": "python3"
  },
  "language_info": {
   "codemirror_mode": {
    "name": "ipython",
    "version": 3
   },
   "file_extension": ".py",
   "mimetype": "text/x-python",
   "name": "python",
   "nbconvert_exporter": "python",
   "pygments_lexer": "ipython3",
   "version": "3.8.5"
  }
 },
 "nbformat": 4,
 "nbformat_minor": 4
}
