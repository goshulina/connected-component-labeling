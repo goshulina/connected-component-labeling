{
 "cells": [
  {
   "cell_type": "code",
   "execution_count": 2,
   "metadata": {},
   "outputs": [],
   "source": [
    "import numpy as np\n",
    "import matplotlib.pyplot as plt"
   ]
  },
  {
   "cell_type": "code",
   "execution_count": 3,
   "metadata": {},
   "outputs": [
    {
     "data": {
      "text/plain": [
       "<matplotlib.image.AxesImage at 0x7f89241c4e50>"
      ]
     },
     "execution_count": 3,
     "metadata": {},
     "output_type": "execute_result"
    },
    {
     "data": {
      "image/png": "[encoded data removed]",
      "text/plain": [
       "<Figure size 432x288 with 1 Axes>"
      ]
     },
     "metadata": {
      "needs_background": "light"
     },
     "output_type": "display_data"
    }
   ],
   "source": [
    "test = np.ones([10, 11], dtype=np.uint8)\n",
    "test[:3,0] = 0\n",
    "test[2,1] = 0\n",
    "test[:2,4:6] = 0\n",
    "\n",
    "test[4:6,4:6] = 0\n",
    "test[4:6,1:3] = 0\n",
    "test[6:7,1:6] = 0\n",
    "\n",
    "test[7:10,7:10] = 0\n",
    "test[8,8] = 1\n",
    "test = 1 - test\n",
    "plt.imshow(test)"
   ]
  },
  {
   "cell_type": "code",
   "execution_count": 4,
   "metadata": {},
   "outputs": [
    {
     "data": {
      "text/plain": [
       "(10, 11)"
      ]
     },
     "execution_count": 4,
     "metadata": {},
     "output_type": "execute_result"
    }
   ],
   "source": [
    "test.shape"
   ]
  },
  {
   "cell_type": "code",
   "execution_count": 5,
   "metadata": {},
   "outputs": [],
   "source": [
    "def groups_by_rows(img_arr):\n",
    "    grps_by_rows = []\n",
    "    g_c = 0\n",
    "    current_row = []\n",
    "    for row in range(img_arr.shape[0]):  # пройтись по строкам\n",
    "        indexes = np.asarray(img_arr[row] == 1).nonzero()[0] # найти индексы единиц\n",
    "        if indexes.size == 0:\n",
    "            grps_by_rows.append([])\n",
    "            continue\n",
    "        gaps = np.diff(indexes) > 1  # найти разрывы между ними\n",
    "        gaps = np.concatenate([gaps, [True]])\n",
    "        current_group = []\n",
    "        for index, gap in dict(zip(indexes, gaps)).items():\n",
    "            current_group.append(index)\n",
    "            if gap:\n",
    "                current_row.append(current_group * 2 if len(current_group) == 1 else [current_group[0], current_group[-1]])\n",
    "                current_group = []\n",
    "        grps_by_rows.append(current_row)\n",
    "        current_row = []\n",
    "    return grps_by_rows\n",
    "\n",
    "grps_by_rows = groups_by_rows(test)"
   ]
  },
  {
   "cell_type": "code",
   "execution_count": 6,
   "metadata": {},
   "outputs": [],
   "source": [
    "def check_connectivity(arr, group_borders, row_number, groups_obj):\n",
    "    \"\"\"\n",
    "    must return a group(s) that group_borders belong(s) to.\n",
    "    \"\"\"\n",
    "    if row_number == 0: # create new group as it is row 1\n",
    "        last_gr_number = list(groups_obj.keys())[-1:]\n",
    "        last_gr_number = 0 if last_gr_number == [] else last_gr_number[0]+1\n",
    "        groups_obj.update({last_gr_number: np.array([\n",
    "            [[row_number,group_borders[0]], [row_number,group_borders[1]]],\n",
    "        ])\n",
    "                          })\n",
    "        return groups_obj\n",
    "    \n",
    "    candidates_j_range = [\n",
    "        group_borders[0]-1 if group_borders[0] != 0 else 0, \n",
    "        group_borders[1]+1\n",
    "    ]\n",
    "    candidates_i = row_number-1 if row_number != 0 else 0\n",
    "    canndidates_connect_to = arr[candidates_i,candidates_j_range[0]:candidates_j_range[1]+1]\n",
    "    if all(canndidates_connect_to == 0):\n",
    "        last_gr_number = list(groups_obj.keys())[-1:]\n",
    "        last_gr_number = 0 if last_gr_number == [] else last_gr_number[0]+1\n",
    "        groups_obj.update({last_gr_number: np.array([\n",
    "            [[row_number,group_borders[0]], [row_number,group_borders[1]]],\n",
    "        ])\n",
    "                          })\n",
    "        return groups_obj\n",
    "    group_concatination = [False] * len(groups_obj)\n",
    "    to_pop = []\n",
    "    to_drop_duplicates = []\n",
    "    for j, (k, v) in enumerate(groups_obj.items()):\n",
    "        for n, element in enumerate(v):\n",
    "            candidates_j_range_set = set(range(candidates_j_range[0], candidates_j_range[1]+1))\n",
    "            if element[:,0][0] == candidates_i and set(range(element[:,1][0], element[:,1][1]+1)).intersection(candidates_j_range_set):\n",
    "                group_concatination[j] = True\n",
    "                too_ssstak = np.array([[[row_number,group_borders[0]], \n",
    "                                        [row_number,group_borders[1]]],\n",
    "                                         ])\n",
    "                groups_obj[k] = np.concatenate([groups_obj[k], \n",
    "                                                 too_ssstak]\n",
    "                                                )\n",
    "                # Concatinate to existing group\n",
    "                if np.where(group_concatination)[0].shape[0] > 1:\n",
    "                    to_pop.append(k)\n",
    "                    gr_concat_to = np.where(group_concatination)[0][0]\n",
    "                    to_drop_duplicates.append(gr_concat_to)\n",
    "                    groups_obj[gr_concat_to] = np.concatenate([groups_obj[gr_concat_to], \n",
    "                                                               groups_obj[k]])\n",
    "    if to_pop:\n",
    "        [groups_obj.pop(pop) for pop in to_pop if pop in groups_obj]\n",
    "    if to_drop_duplicates:\n",
    "        [np.unique(groups_obj[dupl], axis=0) for dupl in to_drop_duplicates]\n",
    "    groups_obj = dict(zip(list(range(len(groups_obj))), groups_obj.values()))\n",
    "    return groups_obj\n",
    "        \n",
    "\n",
    "grps = {}\n",
    "for r_num, row in enumerate(grps_by_rows):\n",
    "    for group in row:\n",
    "        if group == []:\n",
    "            continue\n",
    "        grps = check_connectivity(test, group, r_num, grps)\n",
    "# grps"
   ]
  },
  {
   "cell_type": "code",
   "execution_count": 7,
   "metadata": {},
   "outputs": [
    {
     "data": {
      "image/png": "[encoded data removed]",
      "text/plain": [
       "<Figure size 432x288 with 1 Axes>"
      ]
     },
     "metadata": {
      "needs_background": "light"
     },
     "output_type": "display_data"
    },
    {
     "data": {
      "image/png": "[encoded data removed]",
      "text/plain": [
       "<Figure size 432x288 with 1 Axes>"
      ]
     },
     "metadata": {
      "needs_background": "light"
     },
     "output_type": "display_data"
    },
    {
     "data": {
      "image/png": "[encoded data removed]",
      "text/plain": [
       "<Figure size 432x288 with 1 Axes>"
      ]
     },
     "metadata": {
      "needs_background": "light"
     },
     "output_type": "display_data"
    },
    {
     "data": {
      "image/png": "[encoded data removed]",
      "text/plain": [
       "<Figure size 432x288 with 1 Axes>"
      ]
     },
     "metadata": {
      "needs_background": "light"
     },
     "output_type": "display_data"
    }
   ],
   "source": [
    "\n",
    "def show_segment(coords):\n",
    "    max_y = max(coords[:,0,0])\n",
    "    max_x = max(coords[:,1,1])\n",
    "    img = np.zeros([max_y+1, max_x+1])\n",
    "    for border_index in range(coords.shape[0]):\n",
    "        row = coords[border_index][0][0]\n",
    "        cols = coords[border_index][:,1]\n",
    "        cols = cols if cols[1]-cols[0] < 2 else list(range(cols[0], cols[1]+1, 1))\n",
    "        for col in cols:\n",
    "            img[row][col] = 1\n",
    "    plt.imshow(img)\n",
    "    plt.axis(\"off\")\n",
    "    plt.show()\n",
    "    \n",
    "for i in grps.values():\n",
    "    show_segment(i)"
   ]
  },
  {
   "cell_type": "code",
   "execution_count": null,
   "metadata": {},
   "outputs": [],
   "source": []
  }
 ],
 "metadata": {
  "kernelspec": {
   "display_name": "Python 3",
   "language": "python",
   "name": "python3"
  },
  "language_info": {
   "codemirror_mode": {
    "name": "ipython",
    "version": 3
   },
   "file_extension": ".py",
   "mimetype": "text/x-python",
   "name": "python",
   "nbconvert_exporter": "python",
   "pygments_lexer": "ipython3",
   "version": "3.8.5"
  }
 },
 "nbformat": 4,
 "nbformat_minor": 4
}
