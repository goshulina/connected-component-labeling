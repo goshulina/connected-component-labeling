{
 "cells": [
  {
   "cell_type": "code",
   "execution_count": 1,
   "metadata": {},
   "outputs": [],
   "source": [
    "import numpy as np"
   ]
  },
  {
   "cell_type": "code",
   "execution_count": 2,
   "metadata": {},
   "outputs": [
    {
     "data": {
      "text/plain": [
       "array([[1, 0, 0, 0, 1, 1, 0, 0, 0, 0, 0],\n",
       "       [1, 0, 0, 0, 1, 1, 0, 0, 0, 0, 0],\n",
       "       [1, 1, 0, 0, 0, 0, 0, 0, 0, 0, 0],\n",
       "       [0, 0, 0, 0, 0, 0, 0, 0, 0, 0, 0],\n",
       "       [0, 1, 1, 0, 1, 1, 0, 0, 0, 0, 0],\n",
       "       [0, 1, 1, 0, 1, 1, 0, 0, 0, 0, 0],\n",
       "       [0, 1, 1, 1, 1, 1, 0, 0, 0, 0, 0],\n",
       "       [0, 0, 0, 0, 0, 0, 0, 1, 1, 1, 0],\n",
       "       [0, 0, 0, 0, 0, 0, 0, 1, 0, 1, 0],\n",
       "       [0, 0, 0, 0, 0, 0, 0, 1, 1, 1, 0]], dtype=uint8)"
      ]
     },
     "execution_count": 2,
     "metadata": {},
     "output_type": "execute_result"
    }
   ],
   "source": [
    "test = np.ones([10, 11], dtype=np.uint8)\n",
    "test[:3,0] = 0\n",
    "test[2,1] = 0\n",
    "test[:2,4:6] = 0\n",
    "\n",
    "test[4:6,4:6] = 0\n",
    "test[4:6,1:3] = 0\n",
    "test[6:7,1:6] = 0\n",
    "\n",
    "test[7:10,7:10] = 0\n",
    "test[8,8] = 1\n",
    "test = 1 - test\n",
    "test"
   ]
  },
  {
   "cell_type": "code",
   "execution_count": 3,
   "metadata": {},
   "outputs": [
    {
     "data": {
      "text/plain": [
       "(10, 11)"
      ]
     },
     "execution_count": 3,
     "metadata": {},
     "output_type": "execute_result"
    }
   ],
   "source": [
    "test.shape"
   ]
  },
  {
   "cell_type": "code",
   "execution_count": 4,
   "metadata": {},
   "outputs": [
    {
     "data": {
      "text/plain": [
       "[[(0, 0), (4, 5)],\n",
       " [(0, 0), (4, 5)],\n",
       " [(0, 1)],\n",
       " [((), ())],\n",
       " [(1, 2), (4, 5)],\n",
       " [(1, 2), (4, 5)],\n",
       " [(1, 5)],\n",
       " [(7, 9)],\n",
       " [(7, 7), (9, 9)],\n",
       " [(7, 9)]]"
      ]
     },
     "execution_count": 4,
     "metadata": {},
     "output_type": "execute_result"
    }
   ],
   "source": [
    "grps_by_rows = [[]]\n",
    "g_c = 0\n",
    "for row in range(test.shape[0]):\n",
    "    n = 0\n",
    "    indexes = np.where(test[row] == 1)[0]\n",
    "    diffs = np.diff(indexes) > 1\n",
    "    seq = []\n",
    "    for i in range(indexes.shape[0]):\n",
    "        seq.append(i)\n",
    "        if i == 0:\n",
    "            continue\n",
    "        if diffs[i-1]:\n",
    "            # check connectivity or create new group\n",
    "            group_idexes = [indexes[seq_id] for seq_id in seq[:i]]\n",
    "            group_idexes = group_idexes*2 if len(group_idexes) == 1 else [()] if group_idexes == [] else group_idexes\n",
    "            grps_by_rows[row].append((group_idexes[0], group_idexes[-1]))\n",
    "            n += 1\n",
    "            seq = seq[i:]\n",
    "    group_idexes = [indexes[seq_id] for seq_id in seq[:i+1]]\n",
    "    group_idexes = group_idexes*2 if len(group_idexes) == 1 else [()] if group_idexes == [] else group_idexes\n",
    "    grps_by_rows[row].append((group_idexes[0], group_idexes[-1]))\n",
    "    g_c += 1\n",
    "    grps_by_rows.append([])\n",
    "grps_by_rows = grps_by_rows[:-1]\n",
    "grps_by_rows"
   ]
  },
  {
   "cell_type": "code",
   "execution_count": 5,
   "metadata": {},
   "outputs": [
    {
     "name": "stderr",
     "output_type": "stream",
     "text": [
      "<ipython-input-5-2b060c05f0d0>:55: DeprecationWarning: The truth value of an empty array is ambiguous. Returning False, but in future this will result in an error. Use `array.size > 0` to check that an array is not empty.\n",
      "  if group == ((), ()):\n"
     ]
    },
    {
     "data": {
      "text/plain": [
       "{0: array([[[0, 0],\n",
       "         [0, 0]],\n",
       " \n",
       "        [[1, 0],\n",
       "         [1, 0]],\n",
       " \n",
       "        [[2, 0],\n",
       "         [2, 1]]]),\n",
       " 1: array([[[0, 4],\n",
       "         [0, 5]],\n",
       " \n",
       "        [[1, 4],\n",
       "         [1, 5]]]),\n",
       " 2: array([[[4, 1],\n",
       "         [4, 2]],\n",
       " \n",
       "        [[5, 1],\n",
       "         [5, 2]],\n",
       " \n",
       "        [[6, 1],\n",
       "         [6, 5]],\n",
       " \n",
       "        [[6, 1],\n",
       "         [6, 5]]]),\n",
       " 3: array([[[7, 7],\n",
       "         [7, 9]],\n",
       " \n",
       "        [[8, 7],\n",
       "         [8, 7]],\n",
       " \n",
       "        [[8, 9],\n",
       "         [8, 9]],\n",
       " \n",
       "        [[9, 7],\n",
       "         [9, 9]],\n",
       " \n",
       "        [[9, 7],\n",
       "         [9, 9]]])}"
      ]
     },
     "execution_count": 5,
     "metadata": {},
     "output_type": "execute_result"
    }
   ],
   "source": [
    "def check_connectivity(arr, group_borders, row_number, groups_obj):\n",
    "    \"\"\"\n",
    "    must return a group(s) that group_borders belong(s) to.\n",
    "    \"\"\"\n",
    "    if row_number == 0: # create new group as it is row 1\n",
    "        last_gr_number = list(groups_obj.keys())[-1:]\n",
    "        last_gr_number = 0 if last_gr_number == [] else last_gr_number[0]+1\n",
    "        groups_obj.update({last_gr_number: np.array([\n",
    "            [[row_number,group_borders[0]], [row_number,group_borders[1]]],\n",
    "        ])\n",
    "                          })\n",
    "        return groups_obj\n",
    "    \n",
    "    candidates_j_range = [\n",
    "        group_borders[0]-1 if group_borders[0] != 0 else 0, \n",
    "        group_borders[1]+1\n",
    "    ]\n",
    "    candidates_i = row_number-1 if row_number != 0 else 0\n",
    "    canndidates_connect_to = arr[candidates_i,candidates_j_range[0]:candidates_j_range[1]+1]\n",
    "    if all(canndidates_connect_to == 0):\n",
    "        last_gr_number = list(groups_obj.keys())[-1:]\n",
    "        last_gr_number = 0 if last_gr_number == [] else last_gr_number[0]+1\n",
    "        groups_obj.update({last_gr_number: np.array([\n",
    "            [[row_number,group_borders[0]], [row_number,group_borders[1]]],\n",
    "        ])\n",
    "                          })\n",
    "        return groups_obj\n",
    "    group_concatination = [False] * len(groups_obj)\n",
    "    to_pop = []\n",
    "    for j, (k, v) in enumerate(groups_obj.items()):\n",
    "        for n, element in enumerate(v):\n",
    "            candidates_j_range_set = set(range(candidates_j_range[0], candidates_j_range[1]+1))\n",
    "            if element[:,0][0] == candidates_i and set(range(element[:,1][0], element[:,1][1]+1)).intersection(candidates_j_range_set):\n",
    "                group_concatination[j] = True\n",
    "                too_ssstak = np.array([[[row_number,group_borders[0]], \n",
    "                                        [row_number,group_borders[1]]],\n",
    "                                         ])\n",
    "                groups_obj[k] = np.concatenate([groups_obj[k], \n",
    "                                                 too_ssstak]\n",
    "                                                )\n",
    "                # Concatinate to existing group\n",
    "                if np.where(group_concatination)[0].shape[0] > 1:\n",
    "                    to_pop.append(k)\n",
    "                    gr_concat_to = np.where(group_concatination)[0][0]\n",
    "                    groups_obj[gr_concat_to] = np.concatenate([groups_obj[gr_concat_to], \n",
    "                                                               too_ssstak])\n",
    "    if to_pop:\n",
    "        [groups_obj.pop(pop) for pop in to_pop if pop in groups_obj]\n",
    "    return groups_obj\n",
    "        \n",
    "\n",
    "grps = {}\n",
    "for r_num, row in enumerate(grps_by_rows):\n",
    "    for group in row:\n",
    "        if group == ((), ()):\n",
    "            continue\n",
    "        grps = check_connectivity(test, group, r_num, grps)\n",
    "grps"
   ]
  }
 ],
 "metadata": {
  "kernelspec": {
   "display_name": "Python 3",
   "language": "python",
   "name": "python3"
  },
  "language_info": {
   "codemirror_mode": {
    "name": "ipython",
    "version": 3
   },
   "file_extension": ".py",
   "mimetype": "text/x-python",
   "name": "python",
   "nbconvert_exporter": "python",
   "pygments_lexer": "ipython3",
   "version": "3.8.5"
  }
 },
 "nbformat": 4,
 "nbformat_minor": 4
}
